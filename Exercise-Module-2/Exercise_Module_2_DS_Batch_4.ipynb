{
  "cells": [
    {
      "cell_type": "markdown",
      "metadata": {
        "id": "Lwy5dLWMuFiM"
      },
      "source": [
        "##**Importing Libraries**"
      ]
    },
    {
      "cell_type": "code",
      "execution_count": null,
      "metadata": {
        "id": "N3AQ15nVqE1u"
      },
      "outputs": [],
      "source": [
        "%matplotlib inline\n",
        "import numpy as np\n",
        "import pandas as pd \n",
        "import matplotlib.pyplot as plt\n",
        "import seaborn as sns\n",
        "import plotly.express as px\n",
        "from pandas_profiling import ProfileReport\n",
        "from plotly.offline import iplot\n",
        "!pip install joypy\n",
        "import joypy\n",
        "import os\n",
        "import glob\n",
        "from sklearn.cluster import KMeans\n",
        "\n",
        "plt.rcParams['figure.figsize'] = 8, 5\n",
        "plt.style.use(\"fivethirtyeight\")"
      ]
    },
    {
      "cell_type": "code",
      "source": [
        "from google.colab import drive\n",
        "drive.mount('/content/drive')"
      ],
      "metadata": {
        "id": "bt75TxTDdU5v",
        "colab": {
          "base_uri": "https://localhost:8080/"
        },
        "outputId": "53b480a7-1658-4363-8b33-5fb4fa987baf"
      },
      "execution_count": null,
      "outputs": [
        {
          "output_type": "stream",
          "name": "stdout",
          "text": [
            "Mounted at /content/drive\n"
          ]
        }
      ]
    },
    {
      "cell_type": "markdown",
      "metadata": {
        "id": "Zr7AU6hZuV9J"
      },
      "source": [
        "##**Importing Dataset**"
      ]
    },
    {
      "cell_type": "markdown",
      "metadata": {
        "id": "Da59Q4oEzHOy"
      },
      "source": [
        "#**Module 2: Data Preprocessing**"
      ]
    },
    {
      "cell_type": "markdown",
      "metadata": {
        "id": "hStz_-UsXN45"
      },
      "source": [
        "Download Dataset pada: https://bit.ly/DatasetExerciseDSSC4"
      ]
    },
    {
      "cell_type": "markdown",
      "metadata": {
        "id": "ZVp6Z5LHtYU9"
      },
      "source": [
        "Run code di bawah untuk upload file, lalu choose file penguins_lter.csv dan penguins_size.csv"
      ]
    },
    {
      "cell_type": "code",
      "execution_count": null,
      "metadata": {
        "id": "lrvitLqrD1AU"
      },
      "outputs": [],
      "source": [
        "from google.colab import files\n",
        "uploaded = files.upload()"
      ]
    },
    {
      "cell_type": "code",
      "execution_count": null,
      "metadata": {
        "id": "1hIJK8vPuw1X"
      },
      "outputs": [],
      "source": [
        "import io\n",
        "data = pd.read_csv(io.BytesIO(uploaded['penguins_size.csv'])) \n",
        "study_data = pd.read_csv(io.BytesIO(uploaded['penguins_lter.csv'])) "
      ]
    },
    {
      "cell_type": "markdown",
      "metadata": {
        "id": "FbhMqBWyxh1X"
      },
      "source": [
        "Memanggil tabel data"
      ]
    },
    {
      "cell_type": "code",
      "execution_count": null,
      "metadata": {
        "id": "nBixCuGWxd5w"
      },
      "outputs": [],
      "source": [
        "data.head()\n"
      ]
    },
    {
      "cell_type": "markdown",
      "metadata": {
        "id": "aRIqk71Iv1lS"
      },
      "source": [
        "##**Describing Dataset**"
      ]
    },
    {
      "cell_type": "markdown",
      "metadata": {
        "id": "v8oysVjQt7hl"
      },
      "source": [
        "Tampilkan statistik deskriptif dari data!"
      ]
    },
    {
      "cell_type": "code",
      "execution_count": null,
      "metadata": {
        "id": "fubO2hAU0uP8",
        "colab": {
          "base_uri": "https://localhost:8080/",
          "height": 300
        },
        "outputId": "09261e5c-f70d-4c0a-8ae1-a7377694161a"
      },
      "outputs": [
        {
          "output_type": "execute_result",
          "data": {
            "text/plain": [
              "       culmen_length_mm  culmen_depth_mm  flipper_length_mm  body_mass_g\n",
              "count        342.000000       342.000000         342.000000   342.000000\n",
              "mean          43.921930        17.151170         200.915205  4201.754386\n",
              "std            5.459584         1.974793          14.061714   801.954536\n",
              "min           32.100000        13.100000         172.000000  2700.000000\n",
              "25%           39.225000        15.600000         190.000000  3550.000000\n",
              "50%           44.450000        17.300000         197.000000  4050.000000\n",
              "75%           48.500000        18.700000         213.000000  4750.000000\n",
              "max           59.600000        21.500000         231.000000  6300.000000"
            ],
            "text/html": [
              "\n",
              "  <div id=\"df-b422b5de-602f-406c-8b98-9f7240a5e29b\">\n",
              "    <div class=\"colab-df-container\">\n",
              "      <div>\n",
              "<style scoped>\n",
              "    .dataframe tbody tr th:only-of-type {\n",
              "        vertical-align: middle;\n",
              "    }\n",
              "\n",
              "    .dataframe tbody tr th {\n",
              "        vertical-align: top;\n",
              "    }\n",
              "\n",
              "    .dataframe thead th {\n",
              "        text-align: right;\n",
              "    }\n",
              "</style>\n",
              "<table border=\"1\" class=\"dataframe\">\n",
              "  <thead>\n",
              "    <tr style=\"text-align: right;\">\n",
              "      <th></th>\n",
              "      <th>culmen_length_mm</th>\n",
              "      <th>culmen_depth_mm</th>\n",
              "      <th>flipper_length_mm</th>\n",
              "      <th>body_mass_g</th>\n",
              "    </tr>\n",
              "  </thead>\n",
              "  <tbody>\n",
              "    <tr>\n",
              "      <th>count</th>\n",
              "      <td>342.000000</td>\n",
              "      <td>342.000000</td>\n",
              "      <td>342.000000</td>\n",
              "      <td>342.000000</td>\n",
              "    </tr>\n",
              "    <tr>\n",
              "      <th>mean</th>\n",
              "      <td>43.921930</td>\n",
              "      <td>17.151170</td>\n",
              "      <td>200.915205</td>\n",
              "      <td>4201.754386</td>\n",
              "    </tr>\n",
              "    <tr>\n",
              "      <th>std</th>\n",
              "      <td>5.459584</td>\n",
              "      <td>1.974793</td>\n",
              "      <td>14.061714</td>\n",
              "      <td>801.954536</td>\n",
              "    </tr>\n",
              "    <tr>\n",
              "      <th>min</th>\n",
              "      <td>32.100000</td>\n",
              "      <td>13.100000</td>\n",
              "      <td>172.000000</td>\n",
              "      <td>2700.000000</td>\n",
              "    </tr>\n",
              "    <tr>\n",
              "      <th>25%</th>\n",
              "      <td>39.225000</td>\n",
              "      <td>15.600000</td>\n",
              "      <td>190.000000</td>\n",
              "      <td>3550.000000</td>\n",
              "    </tr>\n",
              "    <tr>\n",
              "      <th>50%</th>\n",
              "      <td>44.450000</td>\n",
              "      <td>17.300000</td>\n",
              "      <td>197.000000</td>\n",
              "      <td>4050.000000</td>\n",
              "    </tr>\n",
              "    <tr>\n",
              "      <th>75%</th>\n",
              "      <td>48.500000</td>\n",
              "      <td>18.700000</td>\n",
              "      <td>213.000000</td>\n",
              "      <td>4750.000000</td>\n",
              "    </tr>\n",
              "    <tr>\n",
              "      <th>max</th>\n",
              "      <td>59.600000</td>\n",
              "      <td>21.500000</td>\n",
              "      <td>231.000000</td>\n",
              "      <td>6300.000000</td>\n",
              "    </tr>\n",
              "  </tbody>\n",
              "</table>\n",
              "</div>\n",
              "      <button class=\"colab-df-convert\" onclick=\"convertToInteractive('df-b422b5de-602f-406c-8b98-9f7240a5e29b')\"\n",
              "              title=\"Convert this dataframe to an interactive table.\"\n",
              "              style=\"display:none;\">\n",
              "        \n",
              "  <svg xmlns=\"http://www.w3.org/2000/svg\" height=\"24px\"viewBox=\"0 0 24 24\"\n",
              "       width=\"24px\">\n",
              "    <path d=\"M0 0h24v24H0V0z\" fill=\"none\"/>\n",
              "    <path d=\"M18.56 5.44l.94 2.06.94-2.06 2.06-.94-2.06-.94-.94-2.06-.94 2.06-2.06.94zm-11 1L8.5 8.5l.94-2.06 2.06-.94-2.06-.94L8.5 2.5l-.94 2.06-2.06.94zm10 10l.94 2.06.94-2.06 2.06-.94-2.06-.94-.94-2.06-.94 2.06-2.06.94z\"/><path d=\"M17.41 7.96l-1.37-1.37c-.4-.4-.92-.59-1.43-.59-.52 0-1.04.2-1.43.59L10.3 9.45l-7.72 7.72c-.78.78-.78 2.05 0 2.83L4 21.41c.39.39.9.59 1.41.59.51 0 1.02-.2 1.41-.59l7.78-7.78 2.81-2.81c.8-.78.8-2.07 0-2.86zM5.41 20L4 18.59l7.72-7.72 1.47 1.35L5.41 20z\"/>\n",
              "  </svg>\n",
              "      </button>\n",
              "      \n",
              "  <style>\n",
              "    .colab-df-container {\n",
              "      display:flex;\n",
              "      flex-wrap:wrap;\n",
              "      gap: 12px;\n",
              "    }\n",
              "\n",
              "    .colab-df-convert {\n",
              "      background-color: #E8F0FE;\n",
              "      border: none;\n",
              "      border-radius: 50%;\n",
              "      cursor: pointer;\n",
              "      display: none;\n",
              "      fill: #1967D2;\n",
              "      height: 32px;\n",
              "      padding: 0 0 0 0;\n",
              "      width: 32px;\n",
              "    }\n",
              "\n",
              "    .colab-df-convert:hover {\n",
              "      background-color: #E2EBFA;\n",
              "      box-shadow: 0px 1px 2px rgba(60, 64, 67, 0.3), 0px 1px 3px 1px rgba(60, 64, 67, 0.15);\n",
              "      fill: #174EA6;\n",
              "    }\n",
              "\n",
              "    [theme=dark] .colab-df-convert {\n",
              "      background-color: #3B4455;\n",
              "      fill: #D2E3FC;\n",
              "    }\n",
              "\n",
              "    [theme=dark] .colab-df-convert:hover {\n",
              "      background-color: #434B5C;\n",
              "      box-shadow: 0px 1px 3px 1px rgba(0, 0, 0, 0.15);\n",
              "      filter: drop-shadow(0px 1px 2px rgba(0, 0, 0, 0.3));\n",
              "      fill: #FFFFFF;\n",
              "    }\n",
              "  </style>\n",
              "\n",
              "      <script>\n",
              "        const buttonEl =\n",
              "          document.querySelector('#df-b422b5de-602f-406c-8b98-9f7240a5e29b button.colab-df-convert');\n",
              "        buttonEl.style.display =\n",
              "          google.colab.kernel.accessAllowed ? 'block' : 'none';\n",
              "\n",
              "        async function convertToInteractive(key) {\n",
              "          const element = document.querySelector('#df-b422b5de-602f-406c-8b98-9f7240a5e29b');\n",
              "          const dataTable =\n",
              "            await google.colab.kernel.invokeFunction('convertToInteractive',\n",
              "                                                     [key], {});\n",
              "          if (!dataTable) return;\n",
              "\n",
              "          const docLinkHtml = 'Like what you see? Visit the ' +\n",
              "            '<a target=\"_blank\" href=https://colab.research.google.com/notebooks/data_table.ipynb>data table notebook</a>'\n",
              "            + ' to learn more about interactive tables.';\n",
              "          element.innerHTML = '';\n",
              "          dataTable['output_type'] = 'display_data';\n",
              "          await google.colab.output.renderOutput(dataTable, element);\n",
              "          const docLink = document.createElement('div');\n",
              "          docLink.innerHTML = docLinkHtml;\n",
              "          element.appendChild(docLink);\n",
              "        }\n",
              "      </script>\n",
              "    </div>\n",
              "  </div>\n",
              "  "
            ]
          },
          "metadata": {},
          "execution_count": 39
        }
      ],
      "source": [
        "data.describe()"
      ]
    },
    {
      "cell_type": "markdown",
      "metadata": {
        "id": "v4L5jm9CuJxp"
      },
      "source": [
        "***\n",
        "**Insight**\n",
        "***\n",
        "Berapa rata - rata body mass penguin?"
      ]
    },
    {
      "cell_type": "code",
      "execution_count": null,
      "metadata": {
        "id": "UVR-JqEqWIAM",
        "colab": {
          "base_uri": "https://localhost:8080/"
        },
        "outputId": "e3a952dc-056a-45b8-f083-6a968143dd44"
      },
      "outputs": [
        {
          "output_type": "stream",
          "name": "stdout",
          "text": [
            "Rata - rata body mass penguin =  4201.75\n"
          ]
        }
      ],
      "source": [
        "print('Rata - rata body mass penguin = ', data.body_mass_g.mean().round(2))"
      ]
    },
    {
      "cell_type": "markdown",
      "metadata": {
        "id": "T2rWuQDOHmLH"
      },
      "source": [
        "##**Handling Missing Values**"
      ]
    },
    {
      "cell_type": "markdown",
      "metadata": {
        "id": "98gGF7w9Iw3E"
      },
      "source": [
        "Cek jumlah missing value!"
      ]
    },
    {
      "cell_type": "code",
      "execution_count": null,
      "metadata": {
        "id": "ogz85QPeHrqH",
        "colab": {
          "base_uri": "https://localhost:8080/"
        },
        "outputId": "54180816-5636-45a9-999f-01d7c9509956"
      },
      "outputs": [
        {
          "output_type": "execute_result",
          "data": {
            "text/plain": [
              "species               0\n",
              "island                0\n",
              "culmen_length_mm      2\n",
              "culmen_depth_mm       2\n",
              "flipper_length_mm     2\n",
              "body_mass_g           2\n",
              "sex                  10\n",
              "dtype: int64"
            ]
          },
          "metadata": {},
          "execution_count": 81
        }
      ],
      "source": [
        "#input your code here\n",
        "data.isnull().sum()"
      ]
    },
    {
      "cell_type": "markdown",
      "metadata": {
        "id": "lgdV2N8xJBAc"
      },
      "source": [
        "Mengisi missing value pada sex dengan modus!"
      ]
    },
    {
      "cell_type": "code",
      "execution_count": null,
      "metadata": {
        "id": "OSljh4YmH77m"
      },
      "outputs": [],
      "source": [
        "#input your code here\n",
        "data.sex.fillna(data.sex.mode()[0], inplace=True)"
      ]
    },
    {
      "cell_type": "markdown",
      "metadata": {
        "id": "DxHkuWVJJF3E"
      },
      "source": [
        "Pada baris ke 336 kolom sex, terdapat data berisi titik (.), drop baris data tersebut! "
      ]
    },
    {
      "cell_type": "code",
      "execution_count": null,
      "metadata": {
        "id": "gvX_bMHsH-Bc"
      },
      "outputs": [],
      "source": [
        "#input your code here\n",
        "#data.sex.iloc[335:340]\n",
        "data = data.drop(336, axis=0)"
      ]
    },
    {
      "cell_type": "markdown",
      "metadata": {
        "id": "3VTVWtfTJKZM"
      },
      "source": [
        "Cek kembali apakah masih ada missing value!"
      ]
    },
    {
      "cell_type": "code",
      "execution_count": null,
      "metadata": {
        "id": "_JJMoRZ1H_wi",
        "colab": {
          "base_uri": "https://localhost:8080/"
        },
        "outputId": "2733cc4f-3ee6-4527-cc1e-950518445471"
      },
      "outputs": [
        {
          "output_type": "execute_result",
          "data": {
            "text/plain": [
              "species              0\n",
              "island               0\n",
              "culmen_length_mm     2\n",
              "culmen_depth_mm      2\n",
              "flipper_length_mm    2\n",
              "body_mass_g          2\n",
              "sex                  0\n",
              "dtype: int64"
            ]
          },
          "metadata": {},
          "execution_count": 86
        }
      ],
      "source": [
        "#input your code here\n",
        "data.isnull().sum()"
      ]
    },
    {
      "cell_type": "code",
      "source": [
        "data[['culmen_length_mm', 'culmen_depth_mm', 'flipper_length_mm']].dropna(inplace=True)"
      ],
      "metadata": {
        "colab": {
          "base_uri": "https://localhost:8080/"
        },
        "id": "MGWI3ZF0kWMU",
        "outputId": "86d0ed9a-6aa3-4d31-82e3-8c712dc6b119"
      },
      "execution_count": null,
      "outputs": [
        {
          "output_type": "stream",
          "name": "stderr",
          "text": [
            "<ipython-input-85-2be03326b7d5>:1: SettingWithCopyWarning:\n",
            "\n",
            "\n",
            "A value is trying to be set on a copy of a slice from a DataFrame\n",
            "\n",
            "See the caveats in the documentation: https://pandas.pydata.org/pandas-docs/stable/user_guide/indexing.html#returning-a-view-versus-a-copy\n",
            "\n"
          ]
        }
      ]
    },
    {
      "cell_type": "markdown",
      "metadata": {
        "id": "5fm_JIiGxV7F"
      },
      "source": [
        "***\n",
        "**Insight**\n",
        "***\n",
        "Apakah masih terdapat missing value? Missing value sudah tidak ada lagi"
      ]
    },
    {
      "cell_type": "markdown",
      "metadata": {
        "id": "7Sqh9pLRxIuM"
      },
      "source": [
        "##**Exploratory Data Analysis**"
      ]
    },
    {
      "cell_type": "markdown",
      "metadata": {
        "id": "e-7oBcM9xz6d"
      },
      "source": [
        "Tampilkan grafik yang menunjukkan jumlah tiap spesies pinguin!"
      ]
    },
    {
      "cell_type": "code",
      "execution_count": null,
      "metadata": {
        "id": "kTcGkWeVG0zU"
      },
      "outputs": [],
      "source": [
        "#input your code here \n"
      ]
    },
    {
      "cell_type": "markdown",
      "metadata": {
        "id": "XuovbQvPNd-n"
      },
      "source": [
        "***\n",
        "**Insight**\n",
        "***\n",
        "Spesies apa dengan jumlah pinguin paling banyak? Adelie Penguin (Pygoscelis adeliae) dengan jumlah 152"
      ]
    },
    {
      "cell_type": "markdown",
      "metadata": {
        "id": "7-P1ktGz-ln0"
      },
      "source": [
        "Tampilkan scatterplot yang menunjukkan korelasi antara culmen_length dan flipper_length!"
      ]
    },
    {
      "cell_type": "code",
      "execution_count": null,
      "metadata": {
        "id": "KgpAd3YY-3ia"
      },
      "outputs": [],
      "source": [
        "#input your code here\n"
      ]
    },
    {
      "cell_type": "markdown",
      "metadata": {
        "id": "x-KTrLDI-6wS"
      },
      "source": [
        "***\n",
        "**Insight**\n",
        "***\n",
        "Bagaimana korelasi antara culmen_length dan flipper_length?"
      ]
    },
    {
      "cell_type": "code",
      "execution_count": null,
      "metadata": {
        "id": "W5VK_ZaLWQPE"
      },
      "outputs": [],
      "source": [
        "#berikut penjelasan dari korelasinya\n"
      ]
    },
    {
      "cell_type": "markdown",
      "metadata": {
        "id": "noLe0Tge--q6"
      },
      "source": [
        "Tampilkan scatterplot yang menunjukkan korelasi antara flipper_length dan body_mass!"
      ]
    },
    {
      "cell_type": "code",
      "execution_count": null,
      "metadata": {
        "id": "sp3STFtv_F40"
      },
      "outputs": [],
      "source": [
        "#input your code here\n"
      ]
    },
    {
      "cell_type": "markdown",
      "metadata": {
        "id": "ENrNBJuW_JQc"
      },
      "source": [
        "***\n",
        "**Insight**\n",
        "***\n",
        "Bagaimana korelasi antara flipper_length dan body_mass?"
      ]
    },
    {
      "cell_type": "code",
      "execution_count": null,
      "metadata": {
        "id": "HiFJo5hQWAAT"
      },
      "outputs": [],
      "source": [
        "#berikut penjelasan dari korelasinya\n"
      ]
    },
    {
      "cell_type": "markdown",
      "metadata": {
        "id": "4-T4OTTK_OKK"
      },
      "source": [
        "Tampilkan pairplot dari semua variabel!"
      ]
    },
    {
      "cell_type": "code",
      "execution_count": null,
      "metadata": {
        "id": "Bij51Znn_xuj"
      },
      "outputs": [],
      "source": [
        "#input your code here\n"
      ]
    },
    {
      "cell_type": "markdown",
      "metadata": {
        "id": "L14fKeun_3rz"
      },
      "source": [
        "***\n",
        "**Insight**\n",
        "***\n",
        "Apa kesimpulan yang dapat kamu ambil dari pairplot di atas?\n",
        "\n"
      ]
    }
  ],
  "metadata": {
    "colab": {
      "provenance": []
    },
    "kernelspec": {
      "display_name": "Python 3",
      "name": "python3"
    },
    "language_info": {
      "name": "python"
    }
  },
  "nbformat": 4,
  "nbformat_minor": 0
}